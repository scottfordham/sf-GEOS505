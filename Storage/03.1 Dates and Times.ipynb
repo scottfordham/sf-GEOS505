{
 "cells": [
  {
   "cell_type": "markdown",
   "id": "908c2198",
   "metadata": {},
   "source": [
    "# Dates and Times the Smart Way\n",
    "\n",
    "\n",
    "## 1. `datetime` Objects"
   ]
  },
  {
   "cell_type": "code",
   "execution_count": 2,
   "id": "69034756",
   "metadata": {},
   "outputs": [],
   "source": [
    "from datetime import datetime\n",
    "from datetime import timedelta\n",
    "import numpy as np\n",
    "import pandas as pd"
   ]
  },
  {
   "cell_type": "code",
   "execution_count": 3,
   "id": "7289ae9c",
   "metadata": {},
   "outputs": [
    {
     "name": "stdout",
     "output_type": "stream",
     "text": [
      "2025-10-07 18:54:05.281262\n"
     ]
    }
   ],
   "source": [
    "print(datetime.today())"
   ]
  },
  {
   "cell_type": "code",
   "execution_count": 4,
   "id": "2d4b08ce",
   "metadata": {},
   "outputs": [
    {
     "data": {
      "text/plain": [
       "datetime.datetime"
      ]
     },
     "execution_count": 4,
     "metadata": {},
     "output_type": "execute_result"
    }
   ],
   "source": [
    "type(datetime.today())"
   ]
  },
  {
   "cell_type": "markdown",
   "id": "0cb80bee",
   "metadata": {},
   "source": [
    "### Operations on `datetime` objects\n",
    "\n",
    "A nice feature of `datetime` objects is that they allow us to pretty easily quantify how much time has elapsed between two, known dates or times. For example, have you ever wondered how many days elapsed between the releases of \"Red\" and \"The Life of a Showgirl?\" Well, we can use `datetime` objects to figure out:"
   ]
  },
  {
   "cell_type": "code",
   "execution_count": 5,
   "id": "44c63e15",
   "metadata": {},
   "outputs": [
    {
     "name": "stdout",
     "output_type": "stream",
     "text": [
      "4729 days, 0:00:00\n"
     ]
    }
   ],
   "source": [
    "print(datetime(2025,10,3) - datetime(2012,10,22))"
   ]
  },
  {
   "cell_type": "markdown",
   "id": "3327f241",
   "metadata": {},
   "source": [
    "this is a fairly precise answer, but we can get the number of days as a whole number:"
   ]
  },
  {
   "cell_type": "code",
   "execution_count": 6,
   "id": "31057578",
   "metadata": {},
   "outputs": [
    {
     "name": "stdout",
     "output_type": "stream",
     "text": [
      "4729\n"
     ]
    }
   ],
   "source": [
    "print((datetime(2025,10,3) - datetime(2012,10,22)).days)\n"
   ]
  },
  {
   "cell_type": "markdown",
   "id": "eb45496e",
   "metadata": {},
   "source": [
    "as a side note, let's look at what kind of object the difference between two dates is:"
   ]
  },
  {
   "cell_type": "code",
   "execution_count": 7,
   "id": "5304662c",
   "metadata": {},
   "outputs": [
    {
     "data": {
      "text/plain": [
       "datetime.timedelta"
      ]
     },
     "execution_count": 7,
     "metadata": {},
     "output_type": "execute_result"
    }
   ],
   "source": [
    "type(datetime(2025,10,3) - datetime(2012,10,22))"
   ]
  },
  {
   "cell_type": "markdown",
   "id": "74c2a6b2",
   "metadata": {},
   "source": [
    "If need be, we can also then use attributes of this `timedelta` object in mathematical operations"
   ]
  },
  {
   "cell_type": "code",
   "execution_count": 8,
   "id": "e514dd5d",
   "metadata": {},
   "outputs": [
    {
     "name": "stdout",
     "output_type": "stream",
     "text": [
      "Nah\n"
     ]
    }
   ],
   "source": [
    "nDays = (datetime(2025,10,3) - datetime(2012,10,22)).days\n",
    "\n",
    "if(nDays % 13 == 0):\n",
    "    print(\"TSwifts albums released in even intervals of 13 days?!?!\")\n",
    "else:\n",
    "    print(\"Nah\")"
   ]
  },
  {
   "cell_type": "markdown",
   "id": "8c062496",
   "metadata": {},
   "source": [
    "Importantly, we can also use the `datetime.strftime()` function to print a `datetime` object to a string in any format we so desire."
   ]
  },
  {
   "cell_type": "code",
   "execution_count": 9,
   "id": "8e0e010f",
   "metadata": {},
   "outputs": [
    {
     "name": "stdout",
     "output_type": "stream",
     "text": [
      "\n",
      "Different ways to print a date:\n",
      "\t Way 1: 2025-10-24\n",
      "\t Way 2: 10-24-2025\n",
      "\t Way 3: 10/24/2025\n",
      "\t Way 4: Friday October 24, 2025\n",
      "\t Year only: 2025\n",
      "\t Month only: 10\n",
      "\t Day only: 24\n",
      "\n"
     ]
    }
   ],
   "source": [
    "myBDay = datetime(2025,10,24)\n",
    "\n",
    "outtext = f'''\n",
    "Different ways to print a date:\n",
    "\\t Way 1: {myBDay.strftime('%Y-%m-%d')}\n",
    "\\t Way 2: {myBDay.strftime('%m-%d-%Y')}\n",
    "\\t Way 3: {myBDay.strftime('%m/%d/%Y')}\n",
    "\\t Way 4: {myBDay.strftime('%A %B %d, %Y')}\n",
    "\\t Year only: {myBDay.strftime('%Y')}\n",
    "\\t Month only: {myBDay.strftime('%m')}\n",
    "\\t Day only: {myBDay.strftime('%d')}\n",
    "'''\n",
    "print(outtext)"
   ]
  },
  {
   "cell_type": "markdown",
   "id": "12eba664",
   "metadata": {},
   "source": [
    "### Real Use Case: Landsat File Names\n",
    "\n",
    "A very common application of dealing with dates in the geosciences is diagnosing the date and time of a satellite data acquisition based on the name of the file. While this information is in the metadata of the file, it is often convenient to be able to do things like determine the length of time between two satellite data acquisitions __before__ downloading the actual file. Additionally, if we want to build a time series of satellite observations – potentially from different, but similar, satellite platforms – we might need to know the actual intervals between satellite overflights. Below is a realworld example of how you might use `datetime` to determine the date of a Landsat acquisition. Below is an image of the Landsat file naming convention. \n",
    "\n",
    "Make note of the `datetime.strptime()` function below, which is largely the reverse of the `datetime.strftime()` function – it takes a string with instructions on how that string embeds a date and time and then converts it to a date time object.\n",
    "\n",
    "![Landsat image naming convention](../img/ls_naming_convention.png)"
   ]
  },
  {
   "cell_type": "code",
   "execution_count": 10,
   "id": "78f794c8",
   "metadata": {},
   "outputs": [
    {
     "name": "stdout",
     "output_type": "stream",
     "text": [
      "2015-12-09 00:00:00\n"
     ]
    }
   ],
   "source": [
    "lsfname = 'LC08_L1GT_029030_20151209_20160131_01_RT'\n",
    " \n",
    "acdate_str = lsfname.split('_')[3] # splits up by underscore and then reads that the 4th object in the vector of information is the date string\n",
    "acdate_dt = datetime.strptime(acdate_str, '%Y%m%d')\n",
    "print(acdate_dt)"
   ]
  },
  {
   "cell_type": "markdown",
   "id": "61a351c6",
   "metadata": {},
   "source": [
    "### Challenge 1: Can You Determine How Many Days Elapsed Between Landsat Retrievals?"
   ]
  },
  {
   "cell_type": "code",
   "execution_count": 11,
   "id": "700fd1e4",
   "metadata": {},
   "outputs": [
    {
     "name": "stdout",
     "output_type": "stream",
     "text": [
      "\n",
      "Date of First Retrieval: 2015-12-09\n",
      "Date of Second Retrieval: 2025-09-15\n",
      "Number of days between: 3568\n",
      "\n"
     ]
    }
   ],
   "source": [
    "lsfname2 = 'LC08_L1TP_029030_20250915_20250920_02_T1'\n",
    "acdate_str2 = lsfname2.split('_')[3] # splits up by underscore and then reads that the 4th object in the vector of information is the date string\n",
    "acdate_dt2 = datetime.strptime(acdate_str2, '%Y%m%d')\n",
    "\n",
    "retIntervalText = f'''\n",
    "Date of First Retrieval: {acdate_dt.strftime('%Y-%m-%d')}\n",
    "Date of Second Retrieval: {acdate_dt2.strftime('%Y-%m-%d')}\n",
    "Number of days between: {(acdate_dt2 - acdate_dt).days}\n",
    "'''\n",
    "\n",
    "print(retIntervalText)\n"
   ]
  },
  {
   "cell_type": "markdown",
   "id": "2d7c4f34",
   "metadata": {},
   "source": [
    "## 2. `timedelta` Objects\n",
    "\n",
    "As we saw above, when we computed the difference between two dates, Python returned a `timedelta` object. We can use the `timedelta` function to add a number of days or times to a `datetime` object. The result is a `datetime` object."
   ]
  },
  {
   "cell_type": "code",
   "execution_count": 12,
   "id": "f2dc5f9a",
   "metadata": {},
   "outputs": [
    {
     "name": "stdout",
     "output_type": "stream",
     "text": [
      "2025-10-17\n"
     ]
    }
   ],
   "source": [
    "newDate = datetime.today() + timedelta(days=10)\n",
    "print(newDate.strftime('%Y-%m-%d'))\n"
   ]
  },
  {
   "cell_type": "markdown",
   "id": "cad270b9",
   "metadata": {},
   "source": [
    "### Challenge 2: Number of Days? \n",
    "\n",
    "Using `datetime` and `timedelta`, compute how many days will elapse between now and 13 years from now. The __conventional__ answer is 4,380. Why is that the conventional answer and what is the __correct__ answer?   "
   ]
  },
  {
   "cell_type": "code",
   "execution_count": 13,
   "id": "b258dc27",
   "metadata": {},
   "outputs": [
    {
     "name": "stdout",
     "output_type": "stream",
     "text": [
      "336.9230769230769\n",
      "4380\n",
      "2038-10-06\n",
      "4746\n"
     ]
    }
   ],
   "source": [
    "print(4380/13)\n",
    "print(12*365)\n",
    "\n",
    "date1 = datetime.today()\n",
    "date2 = datetime(2025+13,10,6)\n",
    "print(date2.strftime('%Y-%m-%d'))\n",
    "print((date2-date1).days)\n"
   ]
  },
  {
   "cell_type": "markdown",
   "id": "46b479f1",
   "metadata": {},
   "source": [
    "Challenge 3: Expected File Names?\n",
    "\n",
    "The Landsat revisit interval for a location is 16 days (some locations that are at the intersection of images have 8 day revisit intervals). You want a collection of approximately the next 2 years of Landsat images at a 16 day interval, and you want to download the images as soon as they are available. From the landsat image at the file referenced below, what are the expected file names of all of the files?"
   ]
  },
  {
   "cell_type": "code",
   "execution_count": 14,
   "id": "3723f5ae",
   "metadata": {},
   "outputs": [
    {
     "name": "stdout",
     "output_type": "stream",
     "text": [
      "LC08_L1TP_029030_20250915_20250920_02_T1\n",
      "LC08_L1TP_029030_20251001_20251006_02_T1\n",
      "LC08_L1TP_029030_20251017_20251022_02_T1\n",
      "LC08_L1TP_029030_20251102_20251107_02_T1\n",
      "LC08_L1TP_029030_20251118_20251123_02_T1\n",
      "LC08_L1TP_029030_20251204_20251209_02_T1\n",
      "LC08_L1TP_029030_20251220_20251225_02_T1\n",
      "LC08_L1TP_029030_20260105_20260110_02_T1\n",
      "LC08_L1TP_029030_20260121_20260126_02_T1\n",
      "LC08_L1TP_029030_20260206_20260211_02_T1\n",
      "LC08_L1TP_029030_20260222_20260227_02_T1\n",
      "LC08_L1TP_029030_20260310_20260315_02_T1\n",
      "LC08_L1TP_029030_20260326_20260331_02_T1\n",
      "LC08_L1TP_029030_20260411_20260416_02_T1\n",
      "LC08_L1TP_029030_20260427_20260502_02_T1\n",
      "LC08_L1TP_029030_20260513_20260518_02_T1\n",
      "LC08_L1TP_029030_20260529_20260603_02_T1\n",
      "LC08_L1TP_029030_20260614_20260619_02_T1\n",
      "LC08_L1TP_029030_20260630_20260705_02_T1\n",
      "LC08_L1TP_029030_20260716_20260721_02_T1\n",
      "LC08_L1TP_029030_20260801_20260806_02_T1\n",
      "LC08_L1TP_029030_20260817_20260822_02_T1\n",
      "LC08_L1TP_029030_20260902_20260907_02_T1\n",
      "LC08_L1TP_029030_20260918_20260923_02_T1\n",
      "LC08_L1TP_029030_20261004_20261009_02_T1\n",
      "LC08_L1TP_029030_20261020_20261025_02_T1\n",
      "LC08_L1TP_029030_20261105_20261110_02_T1\n",
      "LC08_L1TP_029030_20261121_20261126_02_T1\n",
      "LC08_L1TP_029030_20261207_20261212_02_T1\n",
      "LC08_L1TP_029030_20261223_20261228_02_T1\n",
      "LC08_L1TP_029030_20270108_20270113_02_T1\n",
      "LC08_L1TP_029030_20270124_20270129_02_T1\n",
      "LC08_L1TP_029030_20270209_20270214_02_T1\n",
      "LC08_L1TP_029030_20270225_20270302_02_T1\n",
      "LC08_L1TP_029030_20270313_20270318_02_T1\n",
      "LC08_L1TP_029030_20270329_20270403_02_T1\n",
      "LC08_L1TP_029030_20270414_20270419_02_T1\n",
      "LC08_L1TP_029030_20270430_20270505_02_T1\n",
      "LC08_L1TP_029030_20270516_20270521_02_T1\n",
      "LC08_L1TP_029030_20270601_20270606_02_T1\n",
      "LC08_L1TP_029030_20270617_20270622_02_T1\n",
      "LC08_L1TP_029030_20270703_20270708_02_T1\n",
      "LC08_L1TP_029030_20270719_20270724_02_T1\n",
      "LC08_L1TP_029030_20270804_20270809_02_T1\n",
      "LC08_L1TP_029030_20270820_20270825_02_T1\n",
      "LC08_L1TP_029030_20270905_20270910_02_T1\n"
     ]
    }
   ],
   "source": [
    "lsf_collection_file = 'LC08_L1TP_029030_20250915_20250920_02_T1'\n",
    "termination_date = datetime(2025+2, 9,15)\n",
    "end_date = termination_date\n",
    "collection_file_date = lsf_collection_file.split('_')[3]\n",
    "cfd = datetime.strptime(collection_file_date, '%Y%m%d')\n",
    "prefix = \"LC08_L1TP_029030_\"\n",
    "\n",
    "p_date = lsf_collection_file.split('_')[4]\n",
    "processing_date = datetime.strptime(p_date, '%Y%m%d')\n",
    "suffix = \"_02_T1\"\n",
    "\n",
    "filenames = []\n",
    "\n",
    "current = cfd\n",
    "\n",
    "while current <= end_date:\n",
    "    filenames.append(f\"{prefix}{current.strftime('%Y%m%d')}_{processing_date.strftime('%Y%m%d')}{suffix}\")\n",
    "    current += timedelta(days=16)\n",
    "    processing_date = current + timedelta(days=5)\n",
    "#it looks like we need to say that the processing date is 5 days after collection date - no way can an image be processed before it is captured!\n",
    "\n",
    "print(*filenames, sep = '\\n')\n",
    "\n"
   ]
  },
  {
   "cell_type": "markdown",
   "id": "0dddd6f2",
   "metadata": {},
   "source": [
    "## 3. `datetime` reference:\n",
    "\n",
    "https://docs.python.org/3/library/datetime.html"
   ]
  },
  {
   "cell_type": "markdown",
   "id": "92301ab2",
   "metadata": {},
   "source": []
  }
 ],
 "metadata": {
  "kernelspec": {
   "display_name": "geos505",
   "language": "python",
   "name": "python3"
  },
  "language_info": {
   "codemirror_mode": {
    "name": "ipython",
    "version": 3
   },
   "file_extension": ".py",
   "mimetype": "text/x-python",
   "name": "python",
   "nbconvert_exporter": "python",
   "pygments_lexer": "ipython3",
   "version": "3.12.11"
  }
 },
 "nbformat": 4,
 "nbformat_minor": 5
}
